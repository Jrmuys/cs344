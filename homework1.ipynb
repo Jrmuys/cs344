{
 "cells": [
  {
   "cell_type": "markdown",
   "metadata": {
    "collapsed": true
   },
   "source": [
    "# Homework 1"
   ]
  },
  {
   "cell_type": "markdown",
   "metadata": {},
   "source": [
    "## 1.1\n",
    "\n",
    "Introspection is the process of analyzing one's own thoughts. This can be done either by thinking about your own thoughts or by asking others what they are thinking and why they are thinking those things. This method of studying the human mind was very ineffective because we are bad at interpreting what we are thinking and have no way of knowing what goes on in our subconscious because, by definition, it is impossible to access our subconscious from our conscious minds. \n",
    "\n",
    "In AI, we need a reliable model to base human mental processes off to get something artificially intelligent. Early researchers tried to use introspection to get this model, however, it is not a good way to do this because our cognitive processes are abstracted one layer above our subconscious and we have no way of interpreting how those subconscious processes take place by thinking about it. "
   ]
  },
  {
   "cell_type": "markdown",
   "metadata": {},
   "source": [
    "## 1.2\n",
    "\n",
    "For the initial value in my implementation of the traveling salesman problem I am using a list of the cities 0 through n (the number of cities in the problem) and shuffling them to get a random start. The actions are defined by tuples representing all the possible swaps between cities on the route. The results come back as a list that has had a swap operation from the two cities in the action. The value function finds the distances that were randomly generated at the initialization of the problem in a symmetric matrix so that the distance to each city is the same both ways."
   ]
  },
  {
   "cell_type": "code",
   "execution_count": 157,
   "metadata": {
    "pycharm": {
     "is_executing": false
    }
   },
   "outputs": [],
   "source": [
    "import math\n",
    "import numpy as np\n",
    "from search import Problem, hill_climbing, simulated_annealing, \\\n",
    "    exp_schedule, genetic_search\n",
    "from random import shuffle\n",
    "\n",
    "\n",
    "class TspDefinition(Problem):\n",
    "\n",
    "    def __init__(self, cities):\n",
    "        self.cities = cities\n",
    "        self.city_list = self.create_city_list(cities)\n",
    "        \n",
    "        # Matrix with the city distances\n",
    "        self.city_dist = self.create_city_matrix(cities)\n",
    "        \n",
    "        # Initial value set to a shuffled copy of the city list\n",
    "        self.initial = self.city_list\n",
    "        shuffle(self.city_list)\n",
    "\n",
    "    # Creates a list of all of the cities in the problem (cities 0 through n-1)\n",
    "    def create_city_list(self, cities):\n",
    "        city_list = []\n",
    "        for n in range(cities):\n",
    "            city_list.append(n)\n",
    "        return city_list\n",
    "        \n",
    "    # Creates a symmetric matrix of random values, used as the distances between cities\n",
    "    def create_city_matrix(self, cities):\n",
    "        city_matrix = np.random.randint(1, 1000, size=(cities, cities))  # Create random matrix\n",
    "        city_matrix_symm = (city_matrix + city_matrix.T)/2  # Makes the matrix symmetric\n",
    "        return city_matrix_symm\n",
    "    \n",
    "    # Defines the possible actions for the problem\n",
    "    def actions(self, state):\n",
    "        all_actions = []\n",
    "        \n",
    "        # Iterates through all combinations of 2 cities and appends them as a tuple to the return matrix\n",
    "        for city1 in range(self.cities):\n",
    "            for city2 in range(self.cities - city1 - 1):\n",
    "                action = (city1, city2 + city1 + 1)\n",
    "                all_actions.append(action)\n",
    "                \n",
    "        return all_actions\n",
    "        \n",
    "    # Defines the result of a given action\n",
    "    def result(self, x, action):\n",
    "        new_x = x.copy() # Makes a copy of the state\n",
    "        new_x[action[0]], new_x[action[1]] = new_x[action[1]], new_x[action[0]] # Swap the cities in the action tuple\n",
    "        return new_x\n",
    "\n",
    "    def value(self, x):\n",
    "        total_distance = 0\n",
    "        last_city = 0\n",
    "        # Starting the with second city, find the distance in the matrix and add to the total distance\n",
    "        for city in range(self.cities):\n",
    "            if city != 0:\n",
    "                total_distance -= self.city_dist[x[last_city]][x[city]]\n",
    "                last_city = city\n",
    "        # Adds the distance between the last and first city to make a loop\n",
    "        total_distance += self.city_dist[x[-1]][x[0]]\n",
    "        return total_distance\n"
   ]
  },
  {
   "cell_type": "markdown",
   "metadata": {},
   "source": [
    "The city domain I am using for this problem can be an arbitrary number of cities that will have random distances assigned to them (they don’t make geometric sense). I am using the hill-climbing algorithm and the simulated annealing algorithm with 100 random restarts to see which one does better over a wider sample. Overall, the simulated annealing algorithm works better than hill climbing. This is because the solution space for TSPs is spread out, which lends its self to simulated annealing, however, the hill climbing algorithm finds a decently good solution as well."
   ]
  },
  {
   "cell_type": "code",
   "execution_count": 158,
   "metadata": {
    "collapsed": true,
    "pycharm": {
     "is_executing": false
    }
   },
   "outputs": [
    {
     "name": "stdout",
     "output_type": "stream",
     "text": [
      "Starting TSP problem\n"
     ]
    },
    {
     "name": "stdout",
     "output_type": "stream",
     "text": [
      "Initial state average value: -2529.4\nHill climbing average value: -1172.565\nSimulated annealing average value: -1121.495\n"
     ]
    }
   ],
   "source": [
    "print('Starting TSP problem')\n",
    "if __name__ == '__main__':\n",
    "    max_annealing = 0\n",
    "    max_hill = 0\n",
    "    initial_val = 0\n",
    "    \n",
    "    # Run hill-climing and simulated annealing with random restarts 100x\n",
    "    for x in range(100):\n",
    "        p = TspDefinition(7)\n",
    "        initial_val += p.value(p.initial)\n",
    "        hill_solution = hill_climbing(p)\n",
    " \n",
    "        max_hill += p.value(hill_solution)\n",
    "        # Solve the problem using simulated annealing.\n",
    "        annealing_solution = simulated_annealing(\n",
    "            p,\n",
    "            exp_schedule(k=40, lam=.00005, limit=1000)\n",
    "        )\n",
    "        max_annealing += p.value(annealing_solution)\n",
    "    \n",
    "    # Print the average results of each algorithm\n",
    "    print(\"Initial state average value: \" + str(initial_val / 100))\n",
    "    print('Hill climbing average value: ' + str(max_hill / 100))\n",
    "    print('Simulated annealing average value: ' + str(max_annealing / 100))\n"
   ]
  },
  {
   "cell_type": "markdown",
   "metadata": {},
   "source": [
    "The travelling salesman problem was an interesting exercise in using local search and showed that simple algorithms can find decently good solutions for very large and np complete problems like this."
   ]
  },
  {
   "cell_type": "markdown",
   "metadata": {},
   "source": [
    "## 1.3\n",
    "\n",
    "For the scheduling problem, I used the classes as variables and the time, room, and professor make up the domain which is all the different combinations of those. The constraints were that one class is in one room at one time and the professors assigned to each class is correct."
   ]
  },
  {
   "cell_type": "code",
   "execution_count": 144,
   "metadata": {
    "pycharm": {
     "is_executing": false
    }
   },
   "outputs": [],
   "source": [
    "from collections.__init__ import defaultdict\n",
    "from typing import Dict, List, Any\n",
    "\n",
    "from csp import *\n",
    "\n",
    "\n",
    "def class_schedule():\n",
    "\n",
    "    times = 'mwf8000 mwf9000 mwf1030 th1330'.split()\n",
    "    classrooms = 'nh253 sb382'.split()\n",
    "    faculties = 'dschuurman jadams kvanderlinden hplantinga'.split()\n",
    "    classes = 'CS108 CS112 CS212 CS214 CS344 CS300'.split()\n",
    "    class_assignments = {'CS108': 'dschuurman', 'CS112': 'jadams', 'CS212': 'hplantinga', 'CS214': 'jadams'\n",
    "                         , 'CS344': 'kvanderlinden', 'CS300': 'dschuurman'}\n",
    "    \n",
    "    domains = {}\n",
    "\n",
    "    # Add all of the possibilities to the domain\n",
    "    for class_ in classes:\n",
    "        domains[class_] = list()\n",
    "        for faculty in faculties:\n",
    "            for time in times:\n",
    "                for classroom in classrooms:\n",
    "                    domains[class_].append([faculty, time, classroom])\n",
    "                    \n",
    "    # Parses the neighbors in a loop so they are all checked\n",
    "    neighbors = parse_neighbors(\"\"\"CS108: CS112;\n",
    "                      CS112: CS212; CS212: CS214; CS214: CS344;\n",
    "                      CS344: CS300; CS300: CS108\"\"\", classes)\n",
    "    for type in [classes]:\n",
    "        for A in type:\n",
    "            for B in type:\n",
    "                if A != B:\n",
    "                    if B not in neighbors[A]:\n",
    "                        neighbors[A].append(B)\n",
    "                    if A not in neighbors[B]:\n",
    "                        neighbors[B].append(A)\n",
    "\n",
    "    def schedule_constraints(A, a, B, b, recurse=0):\n",
    "        # Checks if the professors are assigned incorrectly, ensures 1 course per prof\n",
    "        if class_assignments[A] != a[0] and class_assignments[B] != b[0]:\n",
    "            return False\n",
    "        # Checks if the faculty member a/b[0] is teaching two courses at the same time\n",
    "        if a[0] == b[0] and a[1] == b[1]:\n",
    "            return False\n",
    "        # Checks if the room a/b[2] is being used at the same time\n",
    "        if a[1] == b[1] and a[2] == b[2]:\n",
    "            return False\n",
    "        return True  # Otherwise return true\n",
    "\n",
    "    return CSP(classes, domains, neighbors, schedule_constraints)\n"
   ]
  },
  {
   "cell_type": "code",
   "execution_count": 146,
   "metadata": {},
   "outputs": [
    {
     "name": "stdout",
     "output_type": "stream",
     "text": [
      "Solution:\n\nclass CS108\n\t ['dschuurman', 'mwf8000', 'nh253']\nclass CS112\n\t ['jadams', 'mwf8000', 'sb382']\nclass CS212\n\t ['hplantinga', 'mwf9000', 'nh253']\nclass CS214\n\t ['jadams', 'mwf9000', 'sb382']\nclass CS344\n\t ['kvanderlinden', 'mwf1030', 'nh253']\nclass CS300\n\t ['dschuurman', 'mwf1030', 'sb382']\n"
     ]
    }
   ],
   "source": [
    "from csp import min_conflicts, backtracking_search, AC3\n",
    "from search import depth_first_graph_search\n",
    "\n",
    "\n",
    "def print_solution(result):\n",
    "    \"\"\"A CSP solution printer copied from csp.py.\"\"\"\n",
    "    for h in ['CS108', 'CS112', 'CS212', 'CS214', 'CS344', 'CS300']:\n",
    "        print('class', h)\n",
    "        for (val, var) in result.items():\n",
    "            if val == h: print('\\t', var)\n",
    "\n",
    "\n",
    "puzzle = class_schedule()\n",
    "\n",
    "# result = depth_first_graph_search(puzzle)\n",
    "# result = AC3(puzzle)\n",
    "result = backtracking_search(puzzle)\n",
    "# result = min_conflicts(puzzle, max_steps=1000)\n",
    "\n",
    "if puzzle.goal_test(puzzle.infer_assignment()):\n",
    "    print(\"Solution:\\n\")\n",
    "    print_solution(result)\n",
    "else:\n",
    "    print(\"failed...\")\n",
    "    print(puzzle.curr_domains)\n",
    "    puzzle.display(puzzle.infer_assignment())\n"
   ]
  },
  {
   "cell_type": "markdown",
   "metadata": {},
   "source": [
    "The scheduling problem shows that by just defining the problem that has many variables and constraints can be used to find a solution very quickly (provided you code faster than me)."
   ]
  },
  {
   "cell_type": "code",
   "execution_count": null,
   "metadata": {},
   "outputs": [],
   "source": []
  }
 ],
 "metadata": {
  "kernelspec": {
   "display_name": "Python 3",
   "language": "python",
   "name": "python3"
  },
  "language_info": {
   "codemirror_mode": {
    "name": "ipython",
    "version": 3
   },
   "file_extension": ".py",
   "mimetype": "text/x-python",
   "name": "python",
   "nbconvert_exporter": "python",
   "pygments_lexer": "ipython3",
   "version": "3.7.1"
  },
  "pycharm": {
   "stem_cell": {
    "cell_type": "raw",
    "metadata": {
     "collapsed": false
    },
    "source": []
   }
  }
 },
 "nbformat": 4,
 "nbformat_minor": 1
}
