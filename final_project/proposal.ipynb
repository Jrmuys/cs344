{
  "nbformat": 4,
  "nbformat_minor": 0,
  "metadata": {
    "colab": {
      "name": "proposal.ipynb",
      "provenance": [],
      "authorship_tag": "ABX9TyONURP4LRUFcveFyxzZeHdG",
      "include_colab_link": true
    },
    "kernelspec": {
      "name": "python3",
      "display_name": "Python 3"
    }
  },
  "cells": [
    {
      "cell_type": "markdown",
      "metadata": {
        "id": "view-in-github",
        "colab_type": "text"
      },
      "source": [
        "<a href=\"https://colab.research.google.com/github/Jrmuys/cs344/blob/master/final_project/proposal.ipynb\" target=\"_parent\"><img src=\"https://colab.research.google.com/assets/colab-badge.svg\" alt=\"Open In Colab\"/></a>"
      ]
    },
    {
      "cell_type": "markdown",
      "metadata": {
        "id": "nKqf1oBTwTfi",
        "colab_type": "text"
      },
      "source": [
        "# Final Project Proposal\n",
        "\n",
        "\n",
        "### Draft\n",
        "---\n",
        "For this project, I will be studying and generative adversarial neural networks (GANs) and applying them to computerized fonts. The purpose of this is to determine if generative networks could be applied to generate new but believable fonts using an artificial neural network. Depending on the results, this could be used to make new unique fonts for use in print or online.\n",
        "\n",
        "\n",
        "To make this happen, I will be using keras and the notMNIST database, a large database of letters of different fonts. The GAN will be constructed with convolutional neural networks and 2d up sampling to produce images based on a noise input, and a discriminator which will try to predict between real and fake images. As both networks train, they both get better, leading towards the generator making more accurate images.\n"
      ]
    }
  ]
}
