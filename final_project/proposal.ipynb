{
  "nbformat": 4,
  "nbformat_minor": 0,
  "metadata": {
    "colab": {
      "name": "proposal.ipynb",
      "provenance": [],
      "include_colab_link": true
    },
    "kernelspec": {
      "name": "python3",
      "display_name": "Python 3"
    }
  },
  "cells": [
    {
      "cell_type": "markdown",
      "metadata": {
        "id": "view-in-github",
        "colab_type": "text"
      },
      "source": [
        "<a href=\"https://colab.research.google.com/github/Jrmuys/cs344/blob/master/final_project/proposal.ipynb\" target=\"_parent\"><img src=\"https://colab.research.google.com/assets/colab-badge.svg\" alt=\"Open In Colab\"/></a>"
      ]
    },
    {
      "cell_type": "markdown",
      "metadata": {
        "id": "nKqf1oBTwTfi",
        "colab_type": "text"
      },
      "source": [
        "# Final Project Proposal\n",
        "\n",
        "\n",
        "### Draft\n",
        "---\n",
        "&ensp;&ensp;&ensp;&ensp;&ensp;&ensp; For this project, I will be studying and generative adversarial neural networks (GANs) and applying them to computerized fonts. The purpose of this is to determine if generative networks could be applied to generate new but believable fonts using an artificial neural network. Depending on the results, this could be used to make new unique fonts for use in print or online.\n",
        "\n",
        "\n",
        "&ensp;&ensp;&ensp;&ensp;&ensp;&ensp;To make this happen, I will be using keras and the notMNIST database, a large database of letters of different fonts. The GAN will be constructed with convolutional neural networks and 2d up sampling to produce images based on a noise input, and a discriminator which will try to predict between real and fake images. As both networks train, they both get better, leading towards the generator making more accurate images.\n",
        "\n",
        "### Update\n",
        "---\n",
        "&ensp;&ensp;&ensp;&ensp;&ensp;&ensp;I have found a [good tutorial](https://pathmind.com/wiki/generative-adversarial-network-gan) that goes through the process of making a GAN while explaining all of the steps along the way. This should help in learning about how they work and seeing how to use a dataset with a GAN. [This guide here](https://towardsdatascience.com/understanding-generative-adversarial-networks-gans-cd6e4651a29) is more of the conceptual basis for GANs and doesn't have any code to run, but should be helpful in understanding the workings of GANs. [This](https://machinelearningmastery.com/how-to-develop-a-generative-adversarial-network-for-an-mnist-handwritten-digits-from-scratch-in-keras/) is another example of a GAN in keras working on the MNIST dataset which seems to get pretty good results. I have also looked at the [notebook](https://github.com/fchollet/deep-learning-with-python-notebooks/blob/master/8.5-introduction-to-gans.ipynb) from the deep learning with python github that you linked me in the response to the first draft which seems very helpul. I think there is enough material to work with so that I can get started on creating my own GAN for the project."
      ]
    }
  ]
}