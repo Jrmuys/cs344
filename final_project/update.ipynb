{
  "nbformat": 4,
  "nbformat_minor": 0,
  "metadata": {
    "colab": {
      "name": "update.ipynb",
      "provenance": [],
      "authorship_tag": "ABX9TyNR8DsqCBKOZDCggSvkYIyv",
      "include_colab_link": true
    },
    "kernelspec": {
      "name": "python3",
      "display_name": "Python 3"
    }
  },
  "cells": [
    {
      "cell_type": "markdown",
      "metadata": {
        "id": "view-in-github",
        "colab_type": "text"
      },
      "source": [
        "<a href=\"https://colab.research.google.com/github/Jrmuys/cs344/blob/master/final_project/update.ipynb\" target=\"_parent\"><img src=\"https://colab.research.google.com/assets/colab-badge.svg\" alt=\"Open In Colab\"/></a>"
      ]
    },
    {
      "cell_type": "markdown",
      "metadata": {
        "id": "8qbr1EHozqBc",
        "colab_type": "text"
      },
      "source": [
        "# Update "
      ]
    },
    {
      "cell_type": "markdown",
      "metadata": {
        "id": "UlQHp7n6ySTS",
        "colab_type": "text"
      },
      "source": [
        "After the walkthrough, I got the second implementation of the GAN working with the same database and worked on a way to make new images from a saved model. "
      ]
    }
  ]
}