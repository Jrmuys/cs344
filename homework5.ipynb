{
  "nbformat": 4,
  "nbformat_minor": 0,
  "metadata": {
    "colab": {
      "name": "CS 344 Homework 5",
      "provenance": [],
      "authorship_tag": "ABX9TyPIwEh1MgKWbF5yDgiM1GcX",
      "include_colab_link": true
    },
    "kernelspec": {
      "name": "python3",
      "display_name": "Python 3"
    }
  },
  "cells": [
    {
      "cell_type": "markdown",
      "metadata": {
        "id": "view-in-github",
        "colab_type": "text"
      },
      "source": [
        "<a href=\"https://colab.research.google.com/github/Jrmuys/cs344/blob/master/homework5.ipynb\" target=\"_parent\"><img src=\"https://colab.research.google.com/assets/colab-badge.svg\" alt=\"Open In Colab\"/></a>"
      ]
    },
    {
      "cell_type": "markdown",
      "metadata": {
        "id": "dRTPRJPt-7Hu",
        "colab_type": "text"
      },
      "source": [
        "# Homework 5"
      ]
    },
    {
      "cell_type": "markdown",
      "metadata": {
        "id": "-zZUwfQ2_AK3",
        "colab_type": "text"
      },
      "source": [
        "## Part 1\n",
        "---"
      ]
    },
    {
      "cell_type": "markdown",
      "metadata": {
        "id": "PcOhua_q-3MB",
        "colab_type": "text"
      },
      "source": [
        "<a href=\"https://ibb.co/BLm6P0s\"><img src=\"https://i.ibb.co/nrT10xk/Cs-344-thing.png\" alt=\"Cs-344-thing\" border=\"0\"></a>"
      ]
    },
    {
      "cell_type": "markdown",
      "metadata": {
        "id": "TeQJ2ClA_FA3",
        "colab_type": "text"
      },
      "source": [
        "This would be easy to impliment except for the not mythical part because prolog can't do negations. It would likely be hard but you could probably figure out a way to write the expressions in prolog."
      ]
    },
    {
      "cell_type": "markdown",
      "metadata": {
        "id": "mdI6vYqV_aIX",
        "colab_type": "text"
      },
      "source": [
        "## Part 2\n",
        "---"
      ]
    },
    {
      "cell_type": "code",
      "metadata": {
        "id": "wU9LHLE8ACOO",
        "colab_type": "code",
        "colab": {}
      },
      "source": [
        "word(astante,  a,s,t,a,n,t,e).\n",
        "word(astoria,  a,s,t,o,r,i,a).\n",
        "word(baratto,  b,a,r,a,t,t,o).\n",
        "word(cobalto,  c,o,b,a,l,t,o).\n",
        "word(pistola,  p,i,s,t,o,l,a).\n",
        "word(statale,  s,t,a,t,a,l,e).\n",
        "\n",
        "crossword(H1,H2,H3,V1,V2,V3) :-\n",
        "    word(H1,_,A,_,B,_,C,_),\n",
        "    word(H2,_,D,_,E,_,F,_),\n",
        "    word(H3,_,G,_,H,_,I,_),\n",
        "    word(V1,_,A,_,D,_,G,_),\n",
        "    word(V2,_,B,_,E,_,H,_),\n",
        "    word(V3,_,C,_,F,_,I,_).\n"
      ],
      "execution_count": 0,
      "outputs": []
    }
  ]
}